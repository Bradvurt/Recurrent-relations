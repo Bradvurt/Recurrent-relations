{
 "cells": [
  {
   "cell_type": "markdown",
   "id": "b2a2dddb",
   "metadata": {},
   "source": [
    "#1 a(n+2)-a(n+1)-a(n)=0, a(0)=a(1)=1 - числа Фибоначчи\n",
    "\n",
    "#2 a(n+2)-2*a(n+1)+a(n)=0 - арифметическая прогрессия\n",
    "\n",
    "#3 a(n+1)-2*a(n)=2^n, a(1)=1 - сложность построения быстрым методом полиномов функций алгебры логики\n",
    "\n",
    "#4 a(n+2)+4*a(n+1)+4*a(n)=0, a(0)=5, a(1)=-22\n",
    "\n",
    "#5 a(n+2)-2*a(n+1)-3*a(n)=4*3^n, a(0)=2, a(1)=3\n",
    "\n",
    "#6 a(n+2)+6*a(n+1)-7*a(n)=n-3, a(0)=2, a(1)=4\n",
    "\n",
    "#7 a(n+2)-2*a(n+1)-3*a(n)=-3^n, a(0)=1, a(1)=3\n",
    "\n",
    "#8 a(n+2)+5*a(n+1)+4*a(n)=3*n^2, a(0)=2, a(1)=3\n",
    "\n",
    "#9 a(n+2)+4*a(n+1)+3*a(n)=0, a(0)=2, a(1)=4"
   ]
  },
  {
   "cell_type": "code",
   "execution_count": 38,
   "id": "2e6d1738",
   "metadata": {},
   "outputs": [
    {
     "name": "stdout",
     "output_type": "stream",
     "text": [
      "a(n+3)-6*a(n+2)+12*a(n+1)-8*a(n)=(n**2-6*n+9)*2**n\n",
      "a(n+3)-6*a(n+2)+12*a(n+1)-8*a(n)\n"
     ]
    },
    {
     "data": {
      "text/plain": [
       "'(n**2-6*n+9)*2**n'"
      ]
     },
     "execution_count": 38,
     "metadata": {},
     "output_type": "execute_result"
    }
   ],
   "source": [
    "\n",
    "# Ввод рекуррентного соотношения\n",
    "\n",
    "\"\"\"\n",
    "    Формат ввода:\n",
    "    a(n+k)+p(k-1)*a(n+k-1)+p(k-2)*a(n+k-2)+ ... +p(0)*a(n)=f(n),\n",
    "    где p(k-1), p(k-2), ..., p(0) - коэффициенты, k - порядок ЛРУ, f(n) - функция, представимая в виде, указанном в документации\n",
    "    Пример:\n",
    "    a(n+2)-a(n+1)-a(n)=0 - числа Фибоначчи\n",
    "    a(n+3)+4*a(n+2)-3*a(n)=(n**2+4*n+4)*6**n\n",
    "\"\"\"\n",
    "\n",
    "import sympy as s\n",
    "\n",
    "rec_eq = input()\n",
    "index = rec_eq.find(\"=\") + 1\n",
    "free_coeff = rec_eq[index:]\n",
    "expr = rec_eq[:index - 1]\n",
    "\n",
    "# для проверки выводится левая и правая часть\n",
    "\n",
    "print(expr)\n",
    "free_coeff\n"
   ]
  },
  {
   "cell_type": "code",
   "execution_count": 39,
   "id": "7943db38",
   "metadata": {},
   "outputs": [
    {
     "name": "stdout",
     "output_type": "stream",
     "text": [
      "a**3 - 6*a**2 + 12*a - 8\n"
     ]
    },
    {
     "data": {
      "text/plain": [
       "3"
      ]
     },
     "execution_count": 39,
     "metadata": {},
     "output_type": "execute_result"
    }
   ],
   "source": [
    "\n",
    "# составляется характеристический многочлен ЛОРУ\n",
    "\n",
    "expr = expr.replace(\"(n)\", \"**0\")\n",
    "expr = expr.replace(\"(n+\", \"**\")\n",
    "expr = expr.replace(\")\", \"\")\n",
    "relation = s.sympify(expr)\n",
    "degree = int(expr[expr.find('*') + 2:(expr.find('+') if ((expr.find('+') < expr.find('-') or expr.find('-') == -1) and expr.find('+') != -1) else expr.find('-'))])\n",
    "\n",
    "# для проверки выводится характеристический многочлен и порядок соотношения\n",
    "\n",
    "print(relation)\n",
    "degree"
   ]
  },
  {
   "cell_type": "code",
   "execution_count": 40,
   "id": "1ad01c34",
   "metadata": {},
   "outputs": [
    {
     "data": {
      "text/plain": [
       "[2]"
      ]
     },
     "execution_count": 40,
     "metadata": {},
     "output_type": "execute_result"
    }
   ],
   "source": [
    "\n",
    "# решение характеристического многочлена\n",
    "\n",
    "# Замечание: функция solve находит НЕПОВТОРЯЮЩИЕСЯ КОРНИ\n",
    "\n",
    "a = s.symbols('a')\n",
    "decision1 = s.solve(relation, a)\n",
    "\n",
    "# вывод корней\n",
    "\n",
    "decision1"
   ]
  },
  {
   "cell_type": "code",
   "execution_count": 41,
   "id": "47f8bf8c",
   "metadata": {},
   "outputs": [
    {
     "name": "stdout",
     "output_type": "stream",
     "text": [
      "(a-2)\n",
      "(a-2)*(a-2)\n"
     ]
    },
    {
     "data": {
      "text/plain": [
       "[2, 2, 2]"
      ]
     },
     "execution_count": 41,
     "metadata": {},
     "output_type": "execute_result"
    }
   ],
   "source": [
    "\n",
    "# составление списка ВСЕХ корней\n",
    "\n",
    "decision2 = []\n",
    "decision = decision1\n",
    "while degree > len(decision):\n",
    "    func = f'(a-{decision[0]})'\n",
    "    for i in range(1, len(decision)):\n",
    "        func += f'*(a-{decision[i]})'\n",
    "    print(func)\n",
    "    s.simplify(relation / s.sympify(func))\n",
    "    decision2 = s.solve(relation, a)    \n",
    "    decision = decision + decision2\n",
    "\n",
    "# вывод всех корней\n",
    "\n",
    "decision"
   ]
  },
  {
   "cell_type": "code",
   "execution_count": 42,
   "id": "a73cd5ec",
   "metadata": {},
   "outputs": [
    {
     "data": {
      "text/latex": [
       "$\\displaystyle 2^{n} C_{0} + 2^{n} C_{1} n + 2^{n} C_{2} n^{2}$"
      ],
      "text/plain": [
       "2**n*C0 + 2**n*C1*n + 2**n*C2*n**2"
      ]
     },
     "execution_count": 42,
     "metadata": {},
     "output_type": "execute_result"
    }
   ],
   "source": [
    "\n",
    "# составление общего решения ЛОРУ\n",
    "\n",
    "general_solution = ''\n",
    "k = 0\n",
    "for i in range(len(decision1)):\n",
    "    for j in range(decision.count(decision1[i])):\n",
    "        general_solution += f'C{k}*n**{j}*({str(decision1[i])})**n+'\n",
    "        k += 1\n",
    "general_solution = general_solution[:-1]\n",
    "general_solution = s.sympify(general_solution)\n",
    "\n",
    "# вывод общего решения ЛОРУ\n",
    "\n",
    "general_solution"
   ]
  },
  {
   "cell_type": "code",
   "execution_count": 43,
   "id": "ed5fb060",
   "metadata": {},
   "outputs": [
    {
     "name": "stdout",
     "output_type": "stream",
     "text": [
      "2\n"
     ]
    }
   ],
   "source": [
    "\n",
    "# нахождение степени полинома в правой части\n",
    "\n",
    "if free_coeff != '0':\n",
    "    num = ['0', '1', '2', '3', '4', '5', '6', '7', '8', '9']\n",
    "    ind_m = free_coeff.find('n**')\n",
    "    if ind_m == -1:\n",
    "        if 'n' not in free_coeff or (free_coeff.count('n') == 1 and '**n' in free_coeff):\n",
    "            m = 0\n",
    "        else:\n",
    "            m = 1\n",
    "    else:\n",
    "        i = ind_m + 3\n",
    "        m = ''\n",
    "        try:\n",
    "            while free_coeff[i] in num:\n",
    "                m += free_coeff[i]\n",
    "                i += 1\n",
    "        except IndexError:\n",
    "            pass\n",
    "    m = int(m)\n",
    "    \n",
    "    # вывод степени\n",
    "    \n",
    "    print(m)"
   ]
  },
  {
   "cell_type": "code",
   "execution_count": 44,
   "id": "6d1565f3",
   "metadata": {},
   "outputs": [
    {
     "name": "stdout",
     "output_type": "stream",
     "text": [
      "2\n"
     ]
    },
    {
     "data": {
      "text/latex": [
       "$\\displaystyle 2^{n} n^{3} \\left(C_{0} + C_{1} n + C_{2} n^{2}\\right)$"
      ],
      "text/plain": [
       "2**n*n**3*(C0 + C1*n + C2*n**2)"
      ]
     },
     "execution_count": 44,
     "metadata": {},
     "output_type": "execute_result"
    }
   ],
   "source": [
    "\n",
    "# нахождение параметра lambda\n",
    "\n",
    "if free_coeff != '0':\n",
    "    lamb = 1\n",
    "    if \"**n\" in free_coeff:\n",
    "        lamb = ''\n",
    "        i = free_coeff.find('**n') - 1\n",
    "        while free_coeff[i] in num:\n",
    "            lamb += free_coeff[i]\n",
    "            i -= 1\n",
    "        lamb = int(lamb[::-1])\n",
    "        \n",
    "    # вывод lambda\n",
    "    \n",
    "    print(lamb)\n",
    "    \n",
    "    # построение параметрического уравнения частного решения\n",
    "    \n",
    "    if lamb not in decision1:\n",
    "        private_solution = '('\n",
    "        for i in range(m + 1):\n",
    "            private_solution += f'C{i}*n**{i}+'\n",
    "        private_solution = private_solution[:-1] + f\")*{lamb}**n\"\n",
    "    else:\n",
    "        r = decision.count(lamb)\n",
    "        private_solution = f'n**{r}*('\n",
    "        for i in range(m + 1):\n",
    "            private_solution += f'C{i}*n**{i}+'\n",
    "        private_solution = private_solution[:-1] + f\")*{lamb}**n\"\n",
    "    private_solution = s.sympify(private_solution)\n",
    "\n",
    "# вывод частного решения\n",
    "    \n",
    "private_solution"
   ]
  },
  {
   "cell_type": "code",
   "execution_count": 45,
   "id": "75a48696",
   "metadata": {},
   "outputs": [
    {
     "name": "stdout",
     "output_type": "stream",
     "text": [
      "a(n+3)-6*a(n+2)+12*a(n+1)-8*a(n)=(n**2-6*n+9)*2**n\n",
      "n+3 0 5\n",
      "(2**(n + 3)*(n + 3)**3*(C0 + C1*(n + 3) + C2*(n + 3)**2))\n",
      "(2**(n + 3)*(n + 3)**3*(C0 + C1*(n + 3) + C2*(n + 3)**2))-6*a(n+2)+12*a(n+1)-8*a(n)=(n**2-6*n+9)*2**n\n",
      "n+2 60 65\n",
      "(2**(n + 2)*(n + 2)**3*(C0 + C1*(n + 2) + C2*(n + 2)**2))\n",
      "(2**(n + 3)*(n + 3)**3*(C0 + C1*(n + 3) + C2*(n + 3)**2))-6*(2**(n + 2)*(n + 2)**3*(C0 + C1*(n + 2) + C2*(n + 2)**2))+12*a(n+1)-8*a(n)=(n**2-6*n+9)*2**n\n",
      "n+1 121 126\n",
      "(2**(n + 1)*(n + 1)**3*(C0 + C1*(n + 1) + C2*(n + 1)**2))\n",
      "(2**(n + 3)*(n + 3)**3*(C0 + C1*(n + 3) + C2*(n + 3)**2))-6*(2**(n + 2)*(n + 2)**3*(C0 + C1*(n + 2) + C2*(n + 2)**2))+12*(2**(n + 1)*(n + 1)**3*(C0 + C1*(n + 1) + C2*(n + 1)**2))-8*a(n)=(n**2-6*n+9)*2**n\n",
      "n 181 184\n",
      "(2**n*n**3*(C0 + C1*n + C2*n**2))\n",
      "(2**(n + 3)*(n + 3)**3*(C0 + C1*(n + 3) + C2*(n + 3)**2))-6*(2**(n + 2)*(n + 2)**3*(C0 + C1*(n + 2) + C2*(n + 2)**2))+12*(2**(n + 1)*(n + 1)**3*(C0 + C1*(n + 1) + C2*(n + 1)**2))-8*(2**n*n**3*(C0 + C1*n + C2*n**2))=(n**2-6*n+9)*2**n\n"
     ]
    },
    {
     "data": {
      "text/plain": [
       "'(2**(n + 3)*(n + 3)**3*(C0 + C1*(n + 3) + C2*(n + 3)**2))-6*(2**(n + 2)*(n + 2)**3*(C0 + C1*(n + 2) + C2*(n + 2)**2))+12*(2**(n + 1)*(n + 1)**3*(C0 + C1*(n + 1) + C2*(n + 1)**2))-8*(2**n*n**3*(C0 + C1*n + C2*n**2))=(n**2-6*n+9)*2**n'"
      ]
     },
     "execution_count": 45,
     "metadata": {},
     "output_type": "execute_result"
    }
   ],
   "source": [
    "\n",
    "# подстановка частного решения в рекуррентное соотношение для поиска параметров\n",
    "\n",
    "if free_coeff != '0':\n",
    "    n = s.symbols('n')\n",
    "    print(rec_eq)\n",
    "    while \"a\" in rec_eq:\n",
    "        ind1 = rec_eq.find(\"a\")\n",
    "        ind2 = rec_eq[ind1:].find(\")\") + ind1\n",
    "        ind_var = rec_eq[ind1 + 2:ind2]\n",
    "        print(ind_var, ind1, ind2)\n",
    "        a = f\"({str(private_solution.subs(n, s.sympify(ind_var)))})\"\n",
    "        print(a)\n",
    "        rec_eq = rec_eq.replace(rec_eq[ind1:ind2+1], a, 1)\n",
    "        print(rec_eq)\n",
    "rec_eq"
   ]
  },
  {
   "cell_type": "code",
   "execution_count": 46,
   "id": "bb7eab26",
   "metadata": {},
   "outputs": [
    {
     "data": {
      "text/latex": [
       "$\\displaystyle 2^{- n} \\left(- 8 \\cdot 2^{n} n^{3} \\left(C_{0} + C_{1} n + C_{2} n^{2}\\right) + 12 \\cdot 2^{n + 1} \\left(n + 1\\right)^{3} \\left(C_{0} + C_{1} \\left(n + 1\\right) + C_{2} \\left(n + 1\\right)^{2}\\right) - 6 \\cdot 2^{n + 2} \\left(n + 2\\right)^{3} \\left(C_{0} + C_{1} \\left(n + 2\\right) + C_{2} \\left(n + 2\\right)^{2}\\right) + 2^{n + 3} \\left(n + 3\\right)^{3} \\left(C_{0} + C_{1} \\left(n + 3\\right) + C_{2} \\left(n + 3\\right)^{2}\\right)\\right)$"
      ],
      "text/plain": [
       "(-8*2**n*n**3*(C0 + C1*n + C2*n**2) + 12*2**(n + 1)*(n + 1)**3*(C0 + C1*(n + 1) + C2*(n + 1)**2) - 6*2**(n + 2)*(n + 2)**3*(C0 + C1*(n + 2) + C2*(n + 2)**2) + 2**(n + 3)*(n + 3)**3*(C0 + C1*(n + 3) + C2*(n + 3)**2))/2**n"
      ]
     },
     "execution_count": 46,
     "metadata": {},
     "output_type": "execute_result"
    }
   ],
   "source": [
    "s.sympify(\"(\" + rec_eq[:rec_eq.find(\"=\")] + \")\" + f\"/{lamb}**n\")"
   ]
  },
  {
   "cell_type": "code",
   "execution_count": 47,
   "id": "1adec776",
   "metadata": {},
   "outputs": [
    {
     "data": {
      "text/latex": [
       "$\\displaystyle 48 C_{0} + 192 C_{1} n + 288 C_{1} + 480 C_{2} n^{2} + 1440 C_{2} n + 1200 C_{2} = n^{2} - 6 n + 9$"
      ],
      "text/plain": [
       "Eq(48*C0 + 192*C1*n + 288*C1 + 480*C2*n**2 + 1440*C2*n + 1200*C2, n**2 - 6*n + 9)"
      ]
     },
     "execution_count": 47,
     "metadata": {},
     "output_type": "execute_result"
    }
   ],
   "source": [
    "\n",
    "# перевод в тип, исполнимый библиотекой SymPy\n",
    "\n",
    "if free_coeff != '0':\n",
    "    f = s.Eq(s.simplify(s.sympify(\"(\" + rec_eq[:rec_eq.find(\"=\")] + \")\" + f\"/{lamb}**n\")), s.sympify(f\"{free_coeff}/{lamb}**n\"))\n",
    "f"
   ]
  },
  {
   "cell_type": "code",
   "execution_count": 48,
   "id": "ac1e6ada",
   "metadata": {},
   "outputs": [],
   "source": [
    "\n",
    "# задание списка параметров, относительно которых будет решаться уравнение\n",
    "\n",
    "symbol = s.symbols([\"C\"+str(i) for i in range(m + 1)])"
   ]
  },
  {
   "cell_type": "code",
   "execution_count": 49,
   "id": "1fd41c9b",
   "metadata": {},
   "outputs": [
    {
     "data": {
      "text/plain": [
       "{C0: 5/12, C1: -3/64, C2: 1/480}"
      ]
     },
     "execution_count": 49,
     "metadata": {},
     "output_type": "execute_result"
    }
   ],
   "source": [
    "\n",
    "# нахождение этих параметров\n",
    "\n",
    "if free_coeff != '0':\n",
    "    root = s.solve(f, symbol)\n",
    "    \n",
    "# их вывод\n",
    "    \n",
    "root"
   ]
  },
  {
   "cell_type": "code",
   "execution_count": 34,
   "id": "654f6cc2",
   "metadata": {},
   "outputs": [
    {
     "data": {
      "text/plain": [
       "[(C0, -4*C2*n - 6*C2 + n**2/48 - n/8 + 3/16, C2)]"
      ]
     },
     "execution_count": 34,
     "metadata": {},
     "output_type": "execute_result"
    }
   ],
   "source": [
    "\n",
    "# обработка ошибок из-за разного представления типов\n",
    "\n",
    "try:\n",
    "    root = list(root.values())\n",
    "except AttributeError:\n",
    "    pass\n",
    "root"
   ]
  },
  {
   "cell_type": "code",
   "execution_count": 35,
   "id": "35108239",
   "metadata": {
    "scrolled": true
   },
   "outputs": [
    {
     "name": "stderr",
     "output_type": "stream",
     "text": [
      "/home/bradvurt/.local/lib/python3.8/site-packages/sympy/core/operations.py:64: SymPyDeprecationWarning: \n",
      "\n",
      "Add/Mul with non-Expr args has been deprecated since SymPy 1.7. Use\n",
      "Expr args instead. See https://github.com/sympy/sympy/issues/19445 for\n",
      "more info.\n",
      "\n",
      "  SymPyDeprecationWarning(\n"
     ]
    },
    {
     "ename": "IndexError",
     "evalue": "list index out of range",
     "output_type": "error",
     "traceback": [
      "\u001b[0;31m---------------------------------------------------------------------------\u001b[0m",
      "\u001b[0;31mIndexError\u001b[0m                                Traceback (most recent call last)",
      "\u001b[0;32m/tmp/ipykernel_7613/1714696882.py\u001b[0m in \u001b[0;36m<module>\u001b[0;34m\u001b[0m\n\u001b[1;32m      4\u001b[0m     \u001b[0;32mfor\u001b[0m \u001b[0mi\u001b[0m \u001b[0;32min\u001b[0m \u001b[0mrange\u001b[0m\u001b[0;34m(\u001b[0m\u001b[0mm\u001b[0m \u001b[0;34m+\u001b[0m \u001b[0;36m1\u001b[0m\u001b[0;34m)\u001b[0m\u001b[0;34m:\u001b[0m\u001b[0;34m\u001b[0m\u001b[0;34m\u001b[0m\u001b[0m\n\u001b[1;32m      5\u001b[0m         \u001b[0;32mtry\u001b[0m\u001b[0;34m:\u001b[0m\u001b[0;34m\u001b[0m\u001b[0;34m\u001b[0m\u001b[0m\n\u001b[0;32m----> 6\u001b[0;31m             \u001b[0mprivate_solution\u001b[0m \u001b[0;34m=\u001b[0m \u001b[0mprivate_solution\u001b[0m\u001b[0;34m.\u001b[0m\u001b[0msubs\u001b[0m\u001b[0;34m(\u001b[0m\u001b[0msymbol\u001b[0m\u001b[0;34m[\u001b[0m\u001b[0mi\u001b[0m\u001b[0;34m]\u001b[0m\u001b[0;34m,\u001b[0m \u001b[0mroot\u001b[0m\u001b[0;34m[\u001b[0m\u001b[0mi\u001b[0m\u001b[0;34m]\u001b[0m\u001b[0;34m)\u001b[0m\u001b[0;34m\u001b[0m\u001b[0;34m\u001b[0m\u001b[0m\n\u001b[0m\u001b[1;32m      7\u001b[0m         \u001b[0;32mexcept\u001b[0m \u001b[0mTypeError\u001b[0m\u001b[0;34m:\u001b[0m\u001b[0;34m\u001b[0m\u001b[0;34m\u001b[0m\u001b[0m\n\u001b[1;32m      8\u001b[0m             \u001b[0mprivate_solution\u001b[0m \u001b[0;34m=\u001b[0m \u001b[0mprivate_solution\u001b[0m\u001b[0;34m.\u001b[0m\u001b[0msubs\u001b[0m\u001b[0;34m(\u001b[0m\u001b[0msymbol\u001b[0m\u001b[0;34m[\u001b[0m\u001b[0mi\u001b[0m\u001b[0;34m]\u001b[0m\u001b[0;34m,\u001b[0m \u001b[0mroot\u001b[0m\u001b[0;34m)\u001b[0m\u001b[0;34m\u001b[0m\u001b[0;34m\u001b[0m\u001b[0m\n",
      "\u001b[0;31mIndexError\u001b[0m: list index out of range"
     ]
    }
   ],
   "source": [
    "\n",
    "# подстановка параметров в частное решение \n",
    "\n",
    "if free_coeff != '0':\n",
    "    for i in range(m + 1):\n",
    "        try:\n",
    "            private_solution = private_solution.subs(symbol[i], root[i])\n",
    "        except TypeError:\n",
    "            private_solution = private_solution.subs(symbol[i], root)\n",
    "else:\n",
    "    private_solution = 0\n",
    "    \n",
    "# вывод частного решения ЛНРУ\n",
    "    \n",
    "private_solution"
   ]
  },
  {
   "cell_type": "code",
   "execution_count": 51,
   "id": "2ab07fb6",
   "metadata": {},
   "outputs": [
    {
     "data": {
      "text/latex": [
       "$\\displaystyle 2^{- n} \\left(\\frac{2^{n} \\left(5055477 \\left(-1\\right)^{n} C_{0} + 6^{n} \\left(14161 n^{2} - 17612 n + 2860\\right)\\right)}{5055477} + C_{1} \\left(-3 + \\sqrt{21}\\right)^{n} + C_{2} \\left(- \\sqrt{21} - 3\\right)^{n}\\right)$"
      ],
      "text/plain": [
       "(2**n*(5055477*(-1)**n*C0 + 6**n*(14161*n**2 - 17612*n + 2860))/5055477 + C1*(-3 + sqrt(21))**n + C2*(-sqrt(21) - 3)**n)/2**n"
      ]
     },
     "execution_count": 51,
     "metadata": {},
     "output_type": "execute_result"
    }
   ],
   "source": [
    "\n",
    "# составление общего решения\n",
    "\n",
    "general_solution = str(general_solution) + \"+\" + str(private_solution)\n",
    "general_solution = s.simplify(s.sympify(general_solution))\n",
    "\n",
    "# вывод общего решения\n",
    "\n",
    "general_solution"
   ]
  },
  {
   "cell_type": "code",
   "execution_count": 52,
   "id": "47941672",
   "metadata": {},
   "outputs": [
    {
     "data": {
      "text/plain": [
       "[-C0 + C1*(-3 + sqrt(21))/2 + C2*(-sqrt(21) - 3)/2 - 1182/1685159,\n",
       " C0 + C1*(-3 + sqrt(21))**2/4 + C2*(-sqrt(21) - 3)**2/4 + 291360/1685159,\n",
       " -C0 + C1*(-3 + sqrt(21))**3/8 + C2*(-sqrt(21) - 3)**3/8 + 5578056/1685159]"
      ]
     },
     "execution_count": 52,
     "metadata": {},
     "output_type": "execute_result"
    }
   ],
   "source": [
    "\n",
    "# составление системы линейных уравнений из первых k значений для поиска параметров для приведения к явному виду\n",
    "\n",
    "\n",
    "# ЕСЛИ ПОСЛЕДОВАТЕЛЬНОСТЬ ЗАДАЕТСЯ ОТ 1 ЭЛЕМЕНТА, ТО НУЖНО В ЦИКЛЕ ПОМЕНЯТЬ РАМКИ НА (1, k + 1)\n",
    "\n",
    "n = s.symbols('n')\n",
    "form_array = []\n",
    "for i in range(1, k + 1):\n",
    "    form_array.append(general_solution.subs(n, i))\n",
    "\n",
    "# вывод полученных уравнений\n",
    "    \n",
    "form_array"
   ]
  },
  {
   "cell_type": "code",
   "execution_count": null,
   "id": "8a6d0b12",
   "metadata": {},
   "outputs": [],
   "source": []
  },
  {
   "cell_type": "code",
   "execution_count": 53,
   "id": "6d5de7d8",
   "metadata": {},
   "outputs": [
    {
     "name": "stdout",
     "output_type": "stream",
     "text": [
      "1\n",
      "3\n",
      "4\n"
     ]
    },
    {
     "data": {
      "text/latex": [
       "$\\displaystyle \\left( \\frac{2116}{1715}, \\  \\frac{101906}{73695} + \\frac{156797 \\sqrt{21}}{515865}, \\  \\frac{101906}{73695} - \\frac{156797 \\sqrt{21}}{515865}\\right)$"
      ],
      "text/plain": [
       "(2116/1715, 101906/73695 + 156797*sqrt(21)/515865, 101906/73695 - 156797*sqrt(21)/515865)"
      ]
     },
     "execution_count": 53,
     "metadata": {},
     "output_type": "execute_result"
    }
   ],
   "source": [
    "\n",
    "# ввод начальных значений и нахождение параметров\n",
    "\n",
    "symbol = s.symbols([\"C\"+str(i) for i in range(k)])\n",
    "a = [s.sympify(input()) for i in range(k)]\n",
    "d = list(s.linsolve([s.Eq(form_array[i], a[i]) for i in range(k)], symbol))\n",
    "d = d[0]\n",
    "\n",
    "# вывод параметров\n",
    "\n",
    "d"
   ]
  },
  {
   "cell_type": "code",
   "execution_count": 54,
   "id": "0fdc3416",
   "metadata": {},
   "outputs": [
    {
     "data": {
      "text/plain": [
       "'(2**n*(31187724*(-1)**n/5 + 6**n*(14161*n**2 - 17612*n + 2860))/5055477 + (-3 + sqrt(21))**n*(101906/73695 + 156797*sqrt(21)/515865) + (101906/73695 - 156797*sqrt(21)/515865)*(-sqrt(21) - 3)**n)/2**n'"
      ]
     },
     "execution_count": 54,
     "metadata": {},
     "output_type": "execute_result"
    }
   ],
   "source": [
    "\n",
    "# подстановка параметров в общее решение\n",
    "\n",
    "symbol2 = s.symbols([\"C\"+str(i) for i in range(len(d))])\n",
    "for i in range(len(d)):\n",
    "    general_solution = general_solution.subs(symbol2[i], d[i])\n",
    "general_solution = str(general_solution)\n",
    "\n",
    "# вывод полученного явного вида\n",
    "\n",
    "general_solution"
   ]
  },
  {
   "cell_type": "code",
   "execution_count": 55,
   "id": "a1c6df11",
   "metadata": {},
   "outputs": [
    {
     "data": {
      "text/latex": [
       "$\\displaystyle 2^{- n} \\left(\\frac{2^{n} \\left(31187724 \\left(-1\\right)^{n} + 6^{n} \\left(70805 n^{2} - 88060 n + 14300\\right)\\right)}{25277385} + \\frac{\\left(-3 + \\sqrt{21}\\right)^{n} \\left(34953758 + 7683053 \\sqrt{21}\\right)}{25277385} + \\frac{\\left(34953758 - 7683053 \\sqrt{21}\\right) \\left(- \\sqrt{21} - 3\\right)^{n}}{25277385}\\right)$"
      ],
      "text/plain": [
       "(2**n*(31187724*(-1)**n + 6**n*(70805*n**2 - 88060*n + 14300))/25277385 + (-3 + sqrt(21))**n*(34953758 + 7683053*sqrt(21))/25277385 + (34953758 - 7683053*sqrt(21))*(-sqrt(21) - 3)**n/25277385)/2**n"
      ]
     },
     "execution_count": 55,
     "metadata": {},
     "output_type": "execute_result"
    }
   ],
   "source": [
    "\n",
    "# упрощение\n",
    "\n",
    "general_solution = s.simplify(s.sympify(general_solution))\n",
    "general_solution"
   ]
  },
  {
   "cell_type": "code",
   "execution_count": 1134,
   "id": "88d6acbe",
   "metadata": {},
   "outputs": [],
   "source": []
  },
  {
   "cell_type": "code",
   "execution_count": null,
   "id": "eac29b6d",
   "metadata": {},
   "outputs": [],
   "source": []
  },
  {
   "cell_type": "code",
   "execution_count": null,
   "id": "9223c47f",
   "metadata": {},
   "outputs": [],
   "source": []
  }
 ],
 "metadata": {
  "kernelspec": {
   "display_name": "Python 3 (ipykernel)",
   "language": "python",
   "name": "python3"
  },
  "language_info": {
   "codemirror_mode": {
    "name": "ipython",
    "version": 3
   },
   "file_extension": ".py",
   "mimetype": "text/x-python",
   "name": "python",
   "nbconvert_exporter": "python",
   "pygments_lexer": "ipython3",
   "version": "3.8.10"
  }
 },
 "nbformat": 4,
 "nbformat_minor": 5
}
